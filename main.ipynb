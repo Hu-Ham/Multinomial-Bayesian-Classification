{
 "cells": [
  {
   "cell_type": "code",
   "execution_count": 2,
   "metadata": {},
   "outputs": [
    {
     "data": {
      "text/plain": [
       "\"\\nThis Function takes a Category type and a Category list and combines\\nall the word counts. For example if there are two articles that mendtion\\n'murder', then it will update to 'murder', 2 in the array.\\n\""
      ]
     },
     "execution_count": 2,
     "metadata": {},
     "output_type": "execute_result"
    }
   ],
   "source": [
    "from time import time\n",
    "start = time()\n",
    "#Multinomial Bayesian Classification Project\n",
    "#Authors:\n",
    "#Nathaniel Champion, Hugh Hamilton, Chris Beatrez, Andrew Kivrak\n",
    "#Description:\n",
    "#This program takes a json file and runs a bayesian classification calculation\n",
    "#on the data to algorithmically determine what classification each article would\n",
    "#be based on the title and short description provided. It will then compare what\n",
    "#the algorithm says is most likely and what the description actually is to\n",
    "#determine how well the calculation performed.\n",
    "\n",
    "# Import libraries required for code to run\n",
    "import json\n",
    "import re\n",
    "from nltk.tokenize import word_tokenize\n",
    "from nltk.corpus import stopwords\n",
    "\n",
    "stop_words = set(stopwords.words('english'))\n",
    "import nltk\n",
    "\n",
    "######################FUNCTIONS######################\n",
    "#This Function takes a Category type and a Category list and combines\n",
    "#all the word counts. For example if there are two articles that mendtion\n",
    "#'murder', then it will update to 'murder', 2 in the array.\n"
   ]
  },
  {
   "cell_type": "code",
   "execution_count": 3,
   "metadata": {},
   "outputs": [],
   "source": [
    "def CatWords(Cat, dataSet):\n",
    "    # Creating necessary variables\n",
    "    testWordList = []\n",
    "    counter_1 = 0\n",
    "    WordVar = []\n",
    "    finalWordVar = []\n",
    "    primeArray = []\n",
    "    # For loop to iterate through the articles we are calculating\n",
    "    for x in dataSet:\n",
    "        \"\"\" If the article is equal to the compared category it\n",
    "        appends it to the testing list element that corresponds\n",
    "        to that category. Once it compares all the articles to \n",
    "        a category the counter goes up and will then compare it\n",
    "        to the next category and add the value to that categories\n",
    "        element in listTest array.\n",
    "        \"\"\"\n",
    "        if Cat in str(x):\n",
    "            primeArray.append(listTest[counter_1])\n",
    "        counter_1 += 1\n",
    "    counter_1 = 0\n",
    "    \"\"\" \n",
    "    Now that we have an array that has all the words for each \n",
    "    category we compare them to stopWords to remove unimportant words\n",
    "    to reduce the number of comparison and improve the accuracy. If the\n",
    "    word appears a second time in a different article instead of adding\n",
    "    the word it will increment the number of occurrences instead.\n",
    "    \"\"\"\n",
    "    for i in primeArray:\n",
    "        for x in i:\n",
    "            if x[0] not in stopWords and x[0] not in testWordList:\n",
    "                testWordList.append(x[0])\n",
    "                WordVar.append([x[0], 1])\n",
    "            else:\n",
    "                index = testWordList.index(x[0])\n",
    "                value_1 = WordVar[index][1]\n",
    "                WordVar[index] = ([x[0], (value_1 + 1)])\n",
    "        counter_1 += 1\n",
    "    for i in WordVar:\n",
    "        if i[1] != 1:\n",
    "            finalWordVar.append(i)\n",
    "    # Returns the updated array\n",
    "    return finalWordVar\n"
   ]
  },
  {
   "cell_type": "code",
   "execution_count": null,
   "metadata": {},
   "outputs": [],
   "source": []
  }
 ],
 "metadata": {
  "interpreter": {
   "hash": "22eefac278ff05bae5abf3a39fa21d59705a9b6cac584246c0ee5695ddf0c981"
  },
  "kernelspec": {
   "display_name": "Python 3.7.11 64-bit ('myenv': conda)",
   "name": "python3"
  },
  "language_info": {
   "codemirror_mode": {
    "name": "ipython",
    "version": 3
   },
   "file_extension": ".py",
   "mimetype": "text/x-python",
   "name": "python",
   "nbconvert_exporter": "python",
   "pygments_lexer": "ipython3",
   "version": "3.7.11"
  },
  "orig_nbformat": 4
 },
 "nbformat": 4,
 "nbformat_minor": 2
}
